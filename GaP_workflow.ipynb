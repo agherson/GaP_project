{
 "cells": [
  {
   "cell_type": "markdown",
   "id": "f58bc59a",
   "metadata": {},
   "source": [
    "# GaP workflow"
   ]
  },
  {
   "cell_type": "markdown",
   "id": "33db262d",
   "metadata": {},
   "source": [
    "FILES WE NEED:\n",
    "- input .d12 file (basis set, scf parameters)\n",
    "\n",
    "INPUT FILES WE BUILD \n",
    "(PRIMITIVE CELL):\n",
    "- OPTGEOM\n",
    "- ELECTRONIC BAND STRUCTURE - DOS - EFFECTIVE MASS\n",
    "- HIGH FREQ DIELECTRIC CONSTANT\n",
    "- LOW FREQ DIELECTRIC CONSTANT\n",
    "- PIZOELECTRIC CONSTANT\n",
    "- ELASTIC CONSTANT\n",
    "\n",
    "(SUPERCELL):\n",
    "- 6X6X6 PHONONS \n",
    "- DISPERSION - DOS\n",
    "- 4 0.1% DISPLACEMENTS \n",
    "- \n"
   ]
  },
  {
   "cell_type": "code",
   "execution_count": 1,
   "id": "a1e94da7",
   "metadata": {},
   "outputs": [],
   "source": [
    "import copy\n",
    "import os\n",
    "from crystal_functions.file_readwrite import *\n",
    "from pymatgen.symmetry.bandstructure import HighSymmKpath\n",
    "from pymatgen.symmetry.analyzer import SpacegroupAnalyzer\n",
    "\n",
    "from crystal_functions.convert import *\n"
   ]
  },
  {
   "cell_type": "markdown",
   "id": "a5c27131",
   "metadata": {},
   "source": [
    "## Primitive cell"
   ]
  },
  {
   "cell_type": "code",
   "execution_count": 7,
   "id": "0930a86b",
   "metadata": {},
   "outputs": [
    {
     "name": "stdout",
     "output_type": "stream",
     "text": [
      "['EXTERNAL\\n', 'OPTGEOM\\n', 'FULLOPTG\\n', 'FRACTION\\n', 'PRINTFORCES\\n', 'PRINTOPT\\n', 'ENDOPT\\n', 'ENDG\\n']\n"
     ]
    },
    {
     "ename": "NameError",
     "evalue": "name 'data' is not defined",
     "output_type": "error",
     "traceback": [
      "\u001b[0;31m---------------------------------------------------------------------------\u001b[0m",
      "\u001b[0;31mNameError\u001b[0m                                 Traceback (most recent call last)",
      "\u001b[0;32m/var/folders/f2/8kc7y9697m59bwltxjd42y300000gn/T/ipykernel_76027/230858196.py\u001b[0m in \u001b[0;36m<module>\u001b[0;34m\u001b[0m\n\u001b[1;32m     75\u001b[0m \u001b[0;34m\u001b[0m\u001b[0m\n\u001b[1;32m     76\u001b[0m     \u001b[0mslurm_file_crystal_data\u001b[0m\u001b[0;34m.\u001b[0m\u001b[0mappend\u001b[0m\u001b[0;34m(\u001b[0m\u001b[0;34m'timeout 2876m /work/e05/e05/bcamino/runCRYSTAL/Pcry_slurm GaP_%s_optgeom.d12 &\\n'\u001b[0m\u001b[0;34m%\u001b[0m\u001b[0mfunctional\u001b[0m\u001b[0;34m)\u001b[0m\u001b[0;34m\u001b[0m\u001b[0;34m\u001b[0m\u001b[0m\n\u001b[0;32m---> 77\u001b[0;31m     \u001b[0mdata\u001b[0m\u001b[0;34m.\u001b[0m\u001b[0mappend\u001b[0m\u001b[0;34m(\u001b[0m\u001b[0;34m'wait\\n'\u001b[0m\u001b[0;34m)\u001b[0m\u001b[0;34m\u001b[0m\u001b[0;34m\u001b[0m\u001b[0m\n\u001b[0m\u001b[1;32m     78\u001b[0m     \u001b[0mdata\u001b[0m\u001b[0;34m.\u001b[0m\u001b[0mappend\u001b[0m\u001b[0;34m(\u001b[0m\u001b[0;34m'/work/e05/e05/bcamino/runCRYSTAL/post_proc_slurm crys GaP_%s_optgeom.d12 &\\n'\u001b[0m\u001b[0;34m%\u001b[0m\u001b[0mfunctional\u001b[0m\u001b[0;34m)\u001b[0m\u001b[0;34m\u001b[0m\u001b[0;34m\u001b[0m\u001b[0m\n\u001b[1;32m     79\u001b[0m     \u001b[0mdata\u001b[0m\u001b[0;34m.\u001b[0m\u001b[0mappend\u001b[0m\u001b[0;34m(\u001b[0m\u001b[0;34m'wait\\n\\n'\u001b[0m\u001b[0;34m)\u001b[0m\u001b[0;34m\u001b[0m\u001b[0;34m\u001b[0m\u001b[0m\n",
      "\u001b[0;31mNameError\u001b[0m: name 'data' is not defined"
     ]
    }
   ],
   "source": [
    "import sys \n",
    "sys.path.insert(-1,'../../../Imperial/crystal-code-tools/crystal_functions/crystal_functions/')\n",
    "\n",
    "from file_readwrite import *\n",
    "from convert import *\n",
    "\n",
    "gap_input_initial = Crystal_input().from_file('./data/GaP_input.d12')\n",
    "gap_gui_initial = Crystal_gui().read_cry_gui('./data/GaP_input.gui')\n",
    "gap_pmg_initial = cry_gui2pmg(gap_gui_initial)\n",
    "gap_pmg_intial_prim = SpacegroupAnalyzer(gap_pmg_initial).get_primitive_standard_structure(international_monoclinic=False)\n",
    "\n",
    "slurm_file_crystal = './data/slurm_file_crystal.slurm'\n",
    "\n",
    "file = open(slurm_file_crystal, 'r')\n",
    "slurm_file_crystal_data = file.readlines()\n",
    "file.close()\n",
    "\n",
    "slurm_file_properties = './data/slurm_file_properties.slurm'\n",
    "\n",
    "file = open(slurm_file_properties, 'r')\n",
    "slurm_file_properties_data = file.readlines()\n",
    "file.close()\n",
    "\n",
    "functional_list = ['HSE06', 'PBE', 'PBE0', 'PBESOL', 'PBESOL0', 'PW91', 'M06', 'BLYP', 'B3LYP', 'B2GPPLYP']\n",
    "functional_details = [['HSE06\\n'],\n",
    "                     ['EXCHANGE\\n','PBE\\n','CORRELAT\\n','PBE\\n'],\n",
    "                     ['PBE0\\n'],\n",
    "                     ['EXCHANGE\\n','PBESOL\\n','CORRELAT\\n','PBESOL\\n'],\n",
    "                     ['PBESOL0\\n'],\n",
    "                     [],\n",
    "                     ['M06\\n'],\n",
    "                     ['EXCHANGE\\n','BECKE\\n','CORRELAT\\n','LYP\\n'],\n",
    "                     ['B3LYP\\n'],\n",
    "                     ['B2GPPLYP\\n']]\n",
    "\n",
    "opt_list = ['OPTGEOM\\n','FULLOPTG\\n','FRACTION\\n','PRINTFORCES\\n','PRINTOPT\\n','ENDOPT\\n']\n",
    "\n",
    "for i,functional in enumerate(functional_list[0]):\n",
    "    gap_input = copy.deepcopy(gap_input_initial)\n",
    "    \n",
    "    #OPTGEOM\n",
    "    #folder = './data/optgeom/%s'%functional\n",
    "    folder = './data/'\n",
    "    if not os.path.exists(folder):           \n",
    "            os.mkdir(folder)\n",
    "    # write crystal input\n",
    "    for line in opt_list:\n",
    "        gap_input.geom_block.insert(-1,line)\n",
    "     \n",
    "    for line in functional_details[i]:\n",
    "        gap_input.func_block.insert(-1,line)\n",
    "    \n",
    "    #write the input and gui\n",
    "    gap_input.write_crystal_input(os.path.join(folder,'GaP_%s_optgeom.d12'%functional))\n",
    "    gap_gui_initial.write_crystal_gui(os.path.join(folder,'GaP_%s_optgeom.gui'%functional))\n",
    "    print(gap_input.geom_block)\n",
    "    \n",
    "    #BANDS\n",
    "    bands_input = Properties_input()\n",
    "    bands_input.make_newk_block(12,24)    \n",
    "    k_path = HighSymmKpath(gap_pmg_intial_prim)\n",
    "    n_kpoints = 500\n",
    "    first_band = 1\n",
    "    last_band = 26\n",
    "    bands_input.make_bands_block(k_path,n_kpoints,first_band,last_band)\n",
    "    bands_input.write_properties_input(os.path.join(folder,'GaP_%s_bands.d3'%functional))\n",
    "    \n",
    "    #DOSS\n",
    "    doss_input = Properties_input()\n",
    "    doss_input.make_newk_block(12,24)\n",
    "    doss_input.make_doss_block(n_points=500,e_range=[-5,15],plotting_option=2,poly=12,print_option=1)\n",
    "    doss_input.write_properties_input(os.path.join(folder,'GaP_%s_doss.d3'%functional))\n",
    "    \n",
    "    #SLURM CRYSTAL\n",
    "    \n",
    "    slurm_file_crystal_data.append('timeout 2876m /work/e05/e05/bcamino/runCRYSTAL/Pcry_slurm GaP_%s_optgeom.d12 &\\n'%functional)\n",
    "    slurm_file_crystal_data.append('wait\\n')\n",
    "    slurm_file_crystal_data.append('/work/e05/e05/bcamino/runCRYSTAL/post_proc_slurm crys GaP_%s_optgeom.d12 &\\n'%functional)\n",
    "    slurm_file_crystal_data.append('wait\\n\\n')\n",
    "    slurm_file_crystal_data.append('')\n",
    "\n",
    "    \n"
   ]
  },
  {
   "cell_type": "markdown",
   "id": "3f7e3fe8",
   "metadata": {},
   "source": [
    "## Supercell"
   ]
  }
 ],
 "metadata": {
  "kernelspec": {
   "display_name": "Python 3 (ipykernel)",
   "language": "python",
   "name": "python3"
  },
  "language_info": {
   "codemirror_mode": {
    "name": "ipython",
    "version": 3
   },
   "file_extension": ".py",
   "mimetype": "text/x-python",
   "name": "python",
   "nbconvert_exporter": "python",
   "pygments_lexer": "ipython3",
   "version": "3.9.10"
  }
 },
 "nbformat": 4,
 "nbformat_minor": 5
}
