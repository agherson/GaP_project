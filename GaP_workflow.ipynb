{
 "cells": [
  {
   "cell_type": "markdown",
   "id": "d5e35fab",
   "metadata": {},
   "source": [
    "# GaP workflow"
   ]
  },
  {
   "cell_type": "markdown",
   "id": "298763e6",
   "metadata": {},
   "source": [
    "FILES WE NEED:\n",
    "- input .d12 file (basis set, scf parameters)\n",
    "\n",
    "INPUT FILES WE BUILD \n",
    "(PRIMITIVE CELL):\n",
    "- OPTGEOM\n",
    "- ELECTRONIC BAND STRUCTURE - DOS - EFFECTIVE MASS\n",
    "- HIGH FREQ DIELECTRIC CONSTANT\n",
    "- LOW FREQ DIELECTRIC CONSTANT\n",
    "- PIZOELECTRIC CONSTANT\n",
    "- ELASTIC CONSTANT\n",
    "\n",
    "(SUPERCELL):\n",
    "- 6X6X6 PHONONS \n",
    "- DISPERSION - DOS\n",
    "- 4 0.1% DISPLACEMENTS \n",
    "- \n"
   ]
  },
  {
   "cell_type": "code",
   "execution_count": null,
   "id": "16e7fabb",
   "metadata": {},
   "outputs": [],
   "source": []
  }
 ],
 "metadata": {
  "kernelspec": {
   "display_name": "Python 3 (ipykernel)",
   "language": "python",
   "name": "python3"
  },
  "language_info": {
   "codemirror_mode": {
    "name": "ipython",
    "version": 3
   },
   "file_extension": ".py",
   "mimetype": "text/x-python",
   "name": "python",
   "nbconvert_exporter": "python",
   "pygments_lexer": "ipython3",
   "version": "3.9.10"
  }
 },
 "nbformat": 4,
 "nbformat_minor": 5
}
